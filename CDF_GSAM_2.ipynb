{
 "cells": [
  {
   "cell_type": "markdown",
   "id": "fc3c83c3-afd4-4b68-9d81-90123fb5e34b",
   "metadata": {},
   "source": [
    "### Initiating Cognite SDK - And access"
   ]
  },
  {
   "cell_type": "code",
   "execution_count": null,
   "id": "ea97b671-981d-441e-99f7-d3f7441e3bc8",
   "metadata": {},
   "outputs": [],
   "source": []
  },
  {
   "cell_type": "code",
   "execution_count": 1,
   "id": "af3be68f-6fc3-4100-af1b-61b51ebadddd",
   "metadata": {},
   "outputs": [
    {
     "name": "stdout",
     "output_type": "stream",
     "text": [
      "Collecting cognite-sdk\n",
      "  Downloading cognite_sdk-7.49.0-py3-none-any.whl.metadata (6.6 kB)\n",
      "Collecting backports-zoneinfo>=0.2.1 (from cognite-sdk)\n",
      "  Downloading backports.zoneinfo-0.2.1.tar.gz (74 kB)\n",
      "\u001b[2K     \u001b[90m━━━━━━━━━━━━━━━━━━━━━━━━━━━━━━━━━━━━━━━━\u001b[0m \u001b[32m74.1/74.1 kB\u001b[0m \u001b[31m3.4 MB/s\u001b[0m eta \u001b[36m0:00:00\u001b[0m\n",
      "\u001b[?25h  Installing build dependencies ... \u001b[?25ldone\n",
      "\u001b[?25h  Getting requirements to build wheel ... \u001b[?25ldone\n",
      "\u001b[?25h  Preparing metadata (pyproject.toml) ... \u001b[?25ldone\n",
      "\u001b[?25hCollecting graphlib-backport<2.0.0,>=1.0.0 (from cognite-sdk)\n",
      "  Downloading graphlib_backport-1.1.0-py3-none-any.whl.metadata (4.4 kB)\n",
      "Collecting msal<2,>=1 (from cognite-sdk)\n",
      "  Downloading msal-1.28.0-py3-none-any.whl.metadata (11 kB)\n",
      "Requirement already satisfied: protobuf>=4 in /Users/maiken/anaconda3/envs/groundSAM/lib/python3.8/site-packages (from cognite-sdk) (5.26.1)\n",
      "Requirement already satisfied: requests<3,>=2 in /Users/maiken/anaconda3/envs/groundSAM/lib/python3.8/site-packages (from cognite-sdk) (2.31.0)\n",
      "Collecting requests_oauthlib<2,>=1 (from cognite-sdk)\n",
      "  Downloading requests_oauthlib-1.3.1-py2.py3-none-any.whl.metadata (10 kB)\n",
      "Requirement already satisfied: typing_extensions>=4 in /Users/maiken/anaconda3/envs/groundSAM/lib/python3.8/site-packages (from cognite-sdk) (4.11.0)\n",
      "Collecting PyJWT<3,>=1.0.0 (from PyJWT[crypto]<3,>=1.0.0->msal<2,>=1->cognite-sdk)\n",
      "  Downloading PyJWT-2.8.0-py3-none-any.whl.metadata (4.2 kB)\n",
      "Requirement already satisfied: cryptography<45,>=0.6 in /Users/maiken/anaconda3/envs/groundSAM/lib/python3.8/site-packages (from msal<2,>=1->cognite-sdk) (42.0.5)\n",
      "Requirement already satisfied: charset-normalizer<4,>=2 in /Users/maiken/anaconda3/envs/groundSAM/lib/python3.8/site-packages (from requests<3,>=2->cognite-sdk) (2.0.4)\n",
      "Requirement already satisfied: idna<4,>=2.5 in /Users/maiken/anaconda3/envs/groundSAM/lib/python3.8/site-packages (from requests<3,>=2->cognite-sdk) (3.4)\n",
      "Requirement already satisfied: urllib3<3,>=1.21.1 in /Users/maiken/anaconda3/envs/groundSAM/lib/python3.8/site-packages (from requests<3,>=2->cognite-sdk) (1.26.18)\n",
      "Requirement already satisfied: certifi>=2017.4.17 in /Users/maiken/anaconda3/envs/groundSAM/lib/python3.8/site-packages (from requests<3,>=2->cognite-sdk) (2024.2.2)\n",
      "Collecting oauthlib>=3.0.0 (from requests_oauthlib<2,>=1->cognite-sdk)\n",
      "  Downloading oauthlib-3.2.2-py3-none-any.whl.metadata (7.5 kB)\n",
      "Requirement already satisfied: cffi>=1.12 in /Users/maiken/anaconda3/envs/groundSAM/lib/python3.8/site-packages (from cryptography<45,>=0.6->msal<2,>=1->cognite-sdk) (1.16.0)\n",
      "Requirement already satisfied: pycparser in /Users/maiken/anaconda3/envs/groundSAM/lib/python3.8/site-packages (from cffi>=1.12->cryptography<45,>=0.6->msal<2,>=1->cognite-sdk) (2.21)\n",
      "Downloading cognite_sdk-7.49.0-py3-none-any.whl (481 kB)\n",
      "\u001b[2K   \u001b[90m━━━━━━━━━━━━━━━━━━━━━━━━━━━━━━━━━━━━━━━━\u001b[0m \u001b[32m481.7/481.7 kB\u001b[0m \u001b[31m10.4 MB/s\u001b[0m eta \u001b[36m0:00:00\u001b[0ma \u001b[36m0:00:01\u001b[0m\n",
      "\u001b[?25hDownloading graphlib_backport-1.1.0-py3-none-any.whl (7.1 kB)\n",
      "Downloading msal-1.28.0-py3-none-any.whl (102 kB)\n",
      "\u001b[2K   \u001b[90m━━━━━━━━━━━━━━━━━━━━━━━━━━━━━━━━━━━━━━━━\u001b[0m \u001b[32m102.2/102.2 kB\u001b[0m \u001b[31m6.7 MB/s\u001b[0m eta \u001b[36m0:00:00\u001b[0m\n",
      "\u001b[?25hDownloading requests_oauthlib-1.3.1-py2.py3-none-any.whl (23 kB)\n",
      "Downloading oauthlib-3.2.2-py3-none-any.whl (151 kB)\n",
      "\u001b[2K   \u001b[90m━━━━━━━━━━━━━━━━━━━━━━━━━━━━━━━━━━━━━━━━\u001b[0m \u001b[32m151.7/151.7 kB\u001b[0m \u001b[31m8.4 MB/s\u001b[0m eta \u001b[36m0:00:00\u001b[0m\n",
      "\u001b[?25hDownloading PyJWT-2.8.0-py3-none-any.whl (22 kB)\n",
      "Building wheels for collected packages: backports-zoneinfo\n",
      "  Building wheel for backports-zoneinfo (pyproject.toml) ... \u001b[?25ldone\n",
      "\u001b[?25h  Created wheel for backports-zoneinfo: filename=backports.zoneinfo-0.2.1-cp38-cp38-macosx_11_0_arm64.whl size=36054 sha256=6fb55bd9f0fd946225b46052136031eba5ef12ff52562fdbce5795f8f03b4bb7\n",
      "  Stored in directory: /Users/maiken/Library/Caches/pip/wheels/c7/de/cc/c405827ed64f81b56142f1e0075a970b2731b00d21983d54fb\n",
      "Successfully built backports-zoneinfo\n",
      "Installing collected packages: PyJWT, oauthlib, graphlib-backport, backports-zoneinfo, requests_oauthlib, msal, cognite-sdk\n",
      "Successfully installed PyJWT-2.8.0 backports-zoneinfo-0.2.1 cognite-sdk-7.49.0 graphlib-backport-1.1.0 msal-1.28.0 oauthlib-3.2.2 requests_oauthlib-1.3.1\n"
     ]
    }
   ],
   "source": [
    "! pip install cognite-sdk"
   ]
  },
  {
   "cell_type": "code",
   "execution_count": 73,
   "id": "5b09ec79-709f-4927-871a-2cade9d572ff",
   "metadata": {},
   "outputs": [],
   "source": [
    "import numpy as np\n",
    "import torch\n",
    "import matplotlib.pyplot as plt\n",
    "import matplotlib.patches as patches\n",
    "import cv2\n",
    "from connect import init_cognite_connect"
   ]
  },
  {
   "cell_type": "code",
   "execution_count": 74,
   "id": "edf31bbf-8580-489a-b8ef-d622e5c413ad",
   "metadata": {},
   "outputs": [],
   "source": [
    "creds, config, client = init_cognite_connect()"
   ]
  },
  {
   "cell_type": "markdown",
   "id": "22254d98-d47d-4f64-876a-5af2faaec702",
   "metadata": {},
   "source": [
    "## NTNU LAB ASSETS"
   ]
  },
  {
   "cell_type": "code",
   "execution_count": 6,
   "id": "aeb1f653-4255-4fbb-8b72-cb6380530476",
   "metadata": {},
   "outputs": [
    {
     "name": "stdout",
     "output_type": "stream",
     "text": [
      "Nr Images section 1: 15\n",
      "Nr Images section 2: 13\n"
     ]
    }
   ],
   "source": [
    "Lab_section_1_ids = [2610043452245607,6774853380218970,2298467520447151,2636039653514628,3780431849412349,3164839763203281,4772965138241059,1431829215027499,8462357668927449,8056787172783702,8745369257386640,2131438246355022,6590899960844816,5083470898170114,7182839523718354]\n",
    "Lab_section_2_ids = [136364742850483,148199178967057,1169059632952098,3140498856345156,1048163125312917,3689841452289534,2162911002967104,4527093576658149,1514343686253364,161824223754372,6058755678959934,7680024737080498,7450650408453162]\n",
    "print(\"Nr Images section 1:\",len(Lab_section_1_ids))\n",
    "print(\"Nr Images section 2:\",len(Lab_section_2_ids))"
   ]
  },
  {
   "cell_type": "code",
   "execution_count": 88,
   "id": "2e99c79b-a19c-4ec7-8197-a43548912991",
   "metadata": {},
   "outputs": [
    {
     "name": "stdout",
     "output_type": "stream",
     "text": [
      "136364742850483\n",
      "148199178967057\n",
      "1169059632952098\n",
      "3140498856345156\n",
      "1048163125312917\n",
      "3689841452289534\n",
      "2162911002967104\n",
      "4527093576658149\n",
      "1514343686253364\n",
      "161824223754372\n",
      "6058755678959934\n",
      "7680024737080498\n",
      "7450650408453162\n"
     ]
    }
   ],
   "source": [
    "for identity in Lab_section_2_ids:\n",
    "    print (identity)"
   ]
  },
  {
   "cell_type": "markdown",
   "id": "89f76356-8229-4ff6-b7df-7f5042649569",
   "metadata": {},
   "source": [
    "### CDF assets detectet:\n",
    "Find the assets within an image, then use the description to assist in segmentation/detection"
   ]
  },
  {
   "cell_type": "code",
   "execution_count": 75,
   "id": "3f3ad6ec-9a1a-4c2c-82e8-3df9936bda06",
   "metadata": {},
   "outputs": [],
   "source": [
    "from cognite.client.data_classes.contextualization import VisionFeature"
   ]
  },
  {
   "cell_type": "code",
   "execution_count": 6,
   "id": "78498156-1c30-4d2c-b3d3-52b3a910b002",
   "metadata": {},
   "outputs": [],
   "source": [
    "Lab_s1_asset_detected = client.vision.extract(features=VisionFeature.ASSET_TAG_DETECTION,file_ids=Lab_section_1_ids)\n",
    "Lab_s2_asset_detected = client.vision.extract(features=VisionFeature.ASSET_TAG_DETECTION,file_ids=Lab_section_2_ids)"
   ]
  },
  {
   "cell_type": "code",
   "execution_count": 7,
   "id": "3bbd056e-3b02-4478-a2c2-ccebafff01c1",
   "metadata": {},
   "outputs": [],
   "source": [
    "Lab_s1_asset_detected.wait_for_completion()"
   ]
  },
  {
   "cell_type": "code",
   "execution_count": 11,
   "id": "1585be60-b7b7-4fe2-a9ec-5cf2e6eee160",
   "metadata": {},
   "outputs": [],
   "source": [
    "Lab_s2_asset_detected.wait_for_completion()"
   ]
  },
  {
   "cell_type": "code",
   "execution_count": 13,
   "id": "73f20c98-b550-44b3-a12f-23cdd91927ff",
   "metadata": {},
   "outputs": [
    {
     "data": {
      "text/html": [
       "<div>\n",
       "<style scoped>\n",
       "    .dataframe tbody tr th:only-of-type {\n",
       "        vertical-align: middle;\n",
       "    }\n",
       "\n",
       "    .dataframe tbody tr th {\n",
       "        vertical-align: top;\n",
       "    }\n",
       "\n",
       "    .dataframe thead th {\n",
       "        text-align: right;\n",
       "    }\n",
       "</style>\n",
       "<table border=\"1\" class=\"dataframe\">\n",
       "  <thead>\n",
       "    <tr style=\"text-align: right;\">\n",
       "      <th></th>\n",
       "      <th>value</th>\n",
       "    </tr>\n",
       "  </thead>\n",
       "  <tbody>\n",
       "    <tr>\n",
       "      <th>job_id</th>\n",
       "      <td>4836380452079941</td>\n",
       "    </tr>\n",
       "    <tr>\n",
       "      <th>status</th>\n",
       "      <td>Completed</td>\n",
       "    </tr>\n",
       "    <tr>\n",
       "      <th>created_time</th>\n",
       "      <td>2024-06-06 09:03:14.818000</td>\n",
       "    </tr>\n",
       "    <tr>\n",
       "      <th>start_time</th>\n",
       "      <td>2024-06-06 09:03:17.551000</td>\n",
       "    </tr>\n",
       "    <tr>\n",
       "      <th>status_time</th>\n",
       "      <td>1717664605568</td>\n",
       "    </tr>\n",
       "  </tbody>\n",
       "</table>\n",
       "</div>"
      ],
      "text/plain": [
       "<cognite.client.data_classes.contextualization.VisionExtractJob at 0x292de7c10>"
      ]
     },
     "execution_count": 13,
     "metadata": {},
     "output_type": "execute_result"
    }
   ],
   "source": [
    "Lab_s2_asset_detected"
   ]
  },
  {
   "cell_type": "code",
   "execution_count": 12,
   "id": "182935e6-4fe2-4863-bb3c-1e9eca9f8450",
   "metadata": {},
   "outputs": [
    {
     "data": {
      "text/html": [
       "<div>\n",
       "<style scoped>\n",
       "    .dataframe tbody tr th:only-of-type {\n",
       "        vertical-align: middle;\n",
       "    }\n",
       "\n",
       "    .dataframe tbody tr th {\n",
       "        vertical-align: top;\n",
       "    }\n",
       "\n",
       "    .dataframe thead th {\n",
       "        text-align: right;\n",
       "    }\n",
       "</style>\n",
       "<table border=\"1\" class=\"dataframe\">\n",
       "  <thead>\n",
       "    <tr style=\"text-align: right;\">\n",
       "      <th></th>\n",
       "      <th>value</th>\n",
       "    </tr>\n",
       "  </thead>\n",
       "  <tbody>\n",
       "    <tr>\n",
       "      <th>job_id</th>\n",
       "      <td>4088769545837329</td>\n",
       "    </tr>\n",
       "    <tr>\n",
       "      <th>status</th>\n",
       "      <td>Completed</td>\n",
       "    </tr>\n",
       "    <tr>\n",
       "      <th>created_time</th>\n",
       "      <td>2024-06-06 09:03:14.205000</td>\n",
       "    </tr>\n",
       "    <tr>\n",
       "      <th>start_time</th>\n",
       "      <td>2024-06-06 09:03:15.802000</td>\n",
       "    </tr>\n",
       "    <tr>\n",
       "      <th>status_time</th>\n",
       "      <td>1717664604031</td>\n",
       "    </tr>\n",
       "  </tbody>\n",
       "</table>\n",
       "</div>"
      ],
      "text/plain": [
       "<cognite.client.data_classes.contextualization.VisionExtractJob at 0x10572b190>"
      ]
     },
     "execution_count": 12,
     "metadata": {},
     "output_type": "execute_result"
    }
   ],
   "source": [
    "Lab_s1_asset_detected"
   ]
  },
  {
   "cell_type": "code",
   "execution_count": 18,
   "id": "363996ab-d631-4c85-8079-b8c5f9cc98cb",
   "metadata": {},
   "outputs": [
    {
     "data": {
      "text/plain": [
       "{'items': [{'fileId': 8745369257386640,\n",
       "   'predictions': {'assetTagPredictions': [{'assetRef': {'id': 1535540773169479},\n",
       "      'confidence': 1.0,\n",
       "      'text': 'GM-1104',\n",
       "      'textRegion': {'xMax': 0.49136143745680716,\n",
       "       'xMin': 0.4623358673116793,\n",
       "       'yMax': 0.59364201796821,\n",
       "       'yMin': 0.5867311679336559}},\n",
       "     {'assetRef': {'id': 4020286679910539},\n",
       "      'confidence': 1.0,\n",
       "      'text': 'GM-1102',\n",
       "      'textRegion': {'xMax': 0.3842432619212163,\n",
       "       'xMin': 0.3538355217691776,\n",
       "       'yMax': 0.2930200414651002,\n",
       "       'yMin': 0.2805805114029025}}]}},\n",
       "  {'fileId': 2131438246355022,\n",
       "   'predictions': {'assetTagPredictions': [{'assetRef': {'id': 4020286679910539},\n",
       "      'confidence': 1.0,\n",
       "      'text': 'GM-1102',\n",
       "      'textRegion': {'xMax': 0.3469246717346233,\n",
       "       'xMin': 0.32204561161022804,\n",
       "       'yMax': 0.28680027643400136,\n",
       "       'yMin': 0.27643400138217}},\n",
       "     {'assetRef': {'id': 1535540773169479},\n",
       "      'confidence': 1.0,\n",
       "      'text': 'GM-1104',\n",
       "      'textRegion': {'xMax': 0.47339322736696604,\n",
       "       'xMin': 0.44367657221838286,\n",
       "       'yMax': 0.5894955079474775,\n",
       "       'yMin': 0.5846579129232895}}]}},\n",
       "  {'fileId': 6590899960844816,\n",
       "   'predictions': {'assetTagPredictions': [{'assetRef': {'id': 1535540773169479},\n",
       "      'confidence': 1.0,\n",
       "      'text': 'GM-1104',\n",
       "      'textRegion': {'xMax': 0.4865238424326192,\n",
       "       'xMin': 0.4561161022805804,\n",
       "       'yMax': 0.5991706979958534,\n",
       "       'yMin': 0.59364201796821}}]}},\n",
       "  {'fileId': 5083470898170114,\n",
       "   'predictions': {'assetTagPredictions': [{'assetRef': {'id': 6140862798255722},\n",
       "      'confidence': 1.0,\n",
       "      'text': 'GM-1101',\n",
       "      'textRegion': {'xMax': 0.6053904630269523,\n",
       "       'xMin': 0.5673807878369039,\n",
       "       'yMax': 0.2577747062888735,\n",
       "       'yMin': 0.2508638562543193}},\n",
       "     {'assetRef': {'id': 1535540773169479},\n",
       "      'confidence': 1.0,\n",
       "      'text': 'GM-1104',\n",
       "      'textRegion': {'xMax': 0.4132688320663441,\n",
       "       'xMin': 0.38009675190048375,\n",
       "       'yMax': 0.6046993780234968,\n",
       "       'yMin': 0.5977885279889427}}]}},\n",
       "  {'fileId': 7182839523718354,\n",
       "   'predictions': {'assetTagPredictions': [{'assetRef': {'id': 1535540773169479},\n",
       "      'confidence': 1.0,\n",
       "      'text': 'GM-1104',\n",
       "      'textRegion': {'xMax': 0.3565998617829993,\n",
       "       'xMin': 0.3255010366275052,\n",
       "       'yMax': 0.580511402902557,\n",
       "       'yMin': 0.5701451278507256}},\n",
       "     {'assetRef': {'id': 6140862798255722},\n",
       "      'confidence': 1.0,\n",
       "      'text': 'GM-1101',\n",
       "      'textRegion': {'xMax': 0.5501036627505183,\n",
       "       'xMin': 0.5093296475466482,\n",
       "       'yMax': 0.23289564616447822,\n",
       "       'yMin': 0.22529371112646854}}]}},\n",
       "  {'fileId': 2610043452245607,\n",
       "   'predictions': {'assetTagPredictions': [{'assetRef': {'id': 1822320193700543},\n",
       "      'confidence': 1.0,\n",
       "      'text': 'EB-1100',\n",
       "      'textRegion': {'xMax': 0.3337940566689703,\n",
       "       'xMin': 0.308914996544575,\n",
       "       'yMax': 0.3469246717346233,\n",
       "       'yMin': 0.33794056668970285}}]}},\n",
       "  {'fileId': 6774853380218970,\n",
       "   'predictions': {'assetTagPredictions': [{'assetRef': {'id': 4020286679910539},\n",
       "      'confidence': 1.0,\n",
       "      'text': 'GM-1102',\n",
       "      'textRegion': {'xMax': 0.5445749827228749,\n",
       "       'xMin': 0.5224602626123013,\n",
       "       'yMax': 0.30822391154111956,\n",
       "       'yMin': 0.3013130615065653}},\n",
       "     {'assetRef': {'id': 1822320193700543},\n",
       "      'confidence': 1.0,\n",
       "      'text': 'EB-1100',\n",
       "      'textRegion': {'xMax': 0.36074637180373187,\n",
       "       'xMin': 0.33655839668279197,\n",
       "       'yMax': 0.3503800967519004,\n",
       "       'yMin': 0.3427781617138908}}]}},\n",
       "  {'fileId': 2298467520447151,\n",
       "   'predictions': {'assetTagPredictions': [{'assetRef': {'id': 4020286679910539},\n",
       "      'confidence': 1.0,\n",
       "      'text': 'GM-1102',\n",
       "      'textRegion': {'xMax': 0.6143745680718729,\n",
       "       'xMin': 0.5915687629578437,\n",
       "       'yMax': 0.3206634416033172,\n",
       "       'yMin': 0.3144436765722184}},\n",
       "     {'assetRef': {'id': 1822320193700543},\n",
       "      'confidence': 1.0,\n",
       "      'text': 'EB-1100',\n",
       "      'textRegion': {'xMax': 0.4174153420870767,\n",
       "       'xMin': 0.39391845196959224,\n",
       "       'yMax': 0.3552176917760885,\n",
       "       'yMin': 0.34899792674498964}}]}},\n",
       "  {'fileId': 2636039653514628,\n",
       "   'predictions': {'assetTagPredictions': [{'assetRef': {'id': 1822320193700543},\n",
       "      'confidence': 1.0,\n",
       "      'text': 'EB-1100',\n",
       "      'textRegion': {'xMax': 0.4029025570145128,\n",
       "       'xMin': 0.3738769868693849,\n",
       "       'yMax': 0.349689011748445,\n",
       "       'yMin': 0.34208707671043537}},\n",
       "     {'assetRef': {'id': 4020286679910539},\n",
       "      'confidence': 1.0,\n",
       "      'text': 'GM-1102',\n",
       "      'textRegion': {'xMax': 0.6434001382170007,\n",
       "       'xMin': 0.6164478230822391,\n",
       "       'yMax': 0.30545957152729786,\n",
       "       'yMin': 0.29993089149965446}}]}},\n",
       "  {'fileId': 3780431849412349,\n",
       "   'predictions': {'assetTagPredictions': [{'assetRef': {'id': 4020286679910539},\n",
       "      'confidence': 1.0,\n",
       "      'text': 'GM-1102',\n",
       "      'textRegion': {'xMax': 0.6758811333794057,\n",
       "       'xMin': 0.6489288182446441,\n",
       "       'yMax': 0.3206634416033172,\n",
       "       'yMin': 0.3144436765722184}},\n",
       "     {'assetRef': {'id': 1822320193700543},\n",
       "      'confidence': 1.0,\n",
       "      'text': 'EB-1100',\n",
       "      'textRegion': {'xMax': 0.4187975120939875,\n",
       "       'xMin': 0.3904630269523151,\n",
       "       'yMax': 0.35867311679336555,\n",
       "       'yMin': 0.3524533517622667}}]}},\n",
       "  {'fileId': 3164839763203281,\n",
       "   'predictions': {'assetTagPredictions': [{'assetRef': {'id': 1822320193700543},\n",
       "      'confidence': 1.0,\n",
       "      'text': 'EB-1100',\n",
       "      'textRegion': {'xMax': 0.3925362819626814,\n",
       "       'xMin': 0.36005528680027643,\n",
       "       'yMax': 0.3255010366275052,\n",
       "       'yMin': 0.31651693158258465}},\n",
       "     {'assetRef': {'id': 4020286679910539},\n",
       "      'confidence': 1.0,\n",
       "      'text': 'GM-1102',\n",
       "      'textRegion': {'xMax': 0.713890808569454,\n",
       "       'xMin': 0.677954388389772,\n",
       "       'yMax': 0.2681409813407049,\n",
       "       'yMin': 0.2570836212854181}},\n",
       "     {'assetRef': {'id': 1535540773169479},\n",
       "      'confidence': 1.0,\n",
       "      'text': 'GM-1104',\n",
       "      'textRegion': {'xMax': 0.7394609536973047,\n",
       "       'xMin': 0.7118175535590877,\n",
       "       'yMax': 0.5494125777470629,\n",
       "       'yMin': 0.5438838977194195}}]}},\n",
       "  {'fileId': 4772965138241059,\n",
       "   'predictions': {'assetTagPredictions': [{'assetRef': {'id': 1822320193700543},\n",
       "      'confidence': 1.0,\n",
       "      'text': 'EB-1100',\n",
       "      'textRegion': {'xMax': 0.3973738769868694,\n",
       "       'xMin': 0.3738769868693849,\n",
       "       'yMax': 0.5051831375259157,\n",
       "       'yMin': 0.49896337249481687}}]}},\n",
       "  {'fileId': 1431829215027499,\n",
       "   'predictions': {'assetTagPredictions': [{'assetRef': {'id': 1535540773169479},\n",
       "      'confidence': 1.0,\n",
       "      'text': 'GM-1104',\n",
       "      'textRegion': {'xMax': 0.7042156185210781,\n",
       "       'xMin': 0.6772633033863165,\n",
       "       'yMax': 0.7208016586040082,\n",
       "       'yMin': 0.7131997235659986}},\n",
       "     {'assetRef': {'id': 4020286679910539},\n",
       "      'confidence': 1.0,\n",
       "      'text': 'GM-1102',\n",
       "      'textRegion': {'xMax': 0.6440912232204561,\n",
       "       'xMin': 0.6192121630960608,\n",
       "       'yMax': 0.47615756738078774,\n",
       "       'yMin': 0.4706288873531444}},\n",
       "     {'assetRef': {'id': 1822320193700543},\n",
       "      'confidence': 1.0,\n",
       "      'text': 'EB-1100',\n",
       "      'textRegion': {'xMax': 0.39668279198341394,\n",
       "       'xMin': 0.37180373185901866,\n",
       "       'yMax': 0.5134761575673807,\n",
       "       'yMin': 0.5079474775397373}}]}},\n",
       "  {'fileId': 8462357668927449,\n",
       "   'predictions': {'assetTagPredictions': [{'assetRef': {'id': 1535540773169479},\n",
       "      'confidence': 1.0,\n",
       "      'text': 'GM-1104',\n",
       "      'textRegion': {'xMax': 0.49965445749827225,\n",
       "       'xMin': 0.4727021423635107,\n",
       "       'yMax': 0.5832757429163787,\n",
       "       'yMin': 0.5777470628887353}}]}},\n",
       "  {'fileId': 8056787172783702,\n",
       "   'predictions': {'assetTagPredictions': [{'assetRef': {'id': 1535540773169479},\n",
       "      'confidence': 1.0,\n",
       "      'text': 'GM-1104',\n",
       "      'textRegion': {'xMax': 0.4526606772633034,\n",
       "       'xMin': 0.4257083621285418,\n",
       "       'yMax': 0.5860400829302004,\n",
       "       'yMin': 0.5791292328956461}},\n",
       "     {'assetRef': {'id': 4020286679910539},\n",
       "      'confidence': 1.0,\n",
       "      'text': 'GM-1102',\n",
       "      'textRegion': {'xMax': 0.3711126468555632,\n",
       "       'xMin': 0.3400138217000691,\n",
       "       'yMax': 0.2964754664823773,\n",
       "       'yMin': 0.2874913614374568}}]}}],\n",
       " 'parameters': {'assetTagDetectionParameters': {'assetSubtreeIds': [],\n",
       "   'partialMatch': False,\n",
       "   'threshold': 0.4}}}"
      ]
     },
     "execution_count": 18,
     "metadata": {},
     "output_type": "execute_result"
    }
   ],
   "source": [
    "Lab_s1_asset_detected.result\n",
    "#Lab_s2_asset_detected.save_predictions()"
   ]
  },
  {
   "cell_type": "code",
   "execution_count": 18,
   "id": "f1a213f2-b899-435d-b7d8-fca8976bb44d",
   "metadata": {},
   "outputs": [
    {
     "data": {
      "text/html": [
       "<div>\n",
       "<style scoped>\n",
       "    .dataframe tbody tr th:only-of-type {\n",
       "        vertical-align: middle;\n",
       "    }\n",
       "\n",
       "    .dataframe tbody tr th {\n",
       "        vertical-align: top;\n",
       "    }\n",
       "\n",
       "    .dataframe thead th {\n",
       "        text-align: right;\n",
       "    }\n",
       "</style>\n",
       "<table border=\"1\" class=\"dataframe\">\n",
       "  <thead>\n",
       "    <tr style=\"text-align: right;\">\n",
       "      <th></th>\n",
       "      <th>annotation_type</th>\n",
       "      <th>data</th>\n",
       "      <th>status</th>\n",
       "      <th>creating_app</th>\n",
       "      <th>creating_app_version</th>\n",
       "      <th>annotated_resource_type</th>\n",
       "      <th>annotated_resource_id</th>\n",
       "      <th>id</th>\n",
       "      <th>created_time</th>\n",
       "      <th>last_updated_time</th>\n",
       "      <th>creating_user</th>\n",
       "    </tr>\n",
       "  </thead>\n",
       "  <tbody>\n",
       "    <tr>\n",
       "      <th>0</th>\n",
       "      <td>images.AssetLink</td>\n",
       "      <td>{'assetRef': {'id': 1822320193700543}, 'confid...</td>\n",
       "      <td>suggested</td>\n",
       "      <td>cognite-sdk-python</td>\n",
       "      <td>7.49.0</td>\n",
       "      <td>file</td>\n",
       "      <td>2610043452245607</td>\n",
       "      <td>3026768958595151</td>\n",
       "      <td>2024-06-06 08:23:34.741</td>\n",
       "      <td>2024-06-06 08:23:34.741</td>\n",
       "      <td>None</td>\n",
       "    </tr>\n",
       "    <tr>\n",
       "      <th>1</th>\n",
       "      <td>images.AssetLink</td>\n",
       "      <td>{'assetRef': {'id': 1822320193700543}, 'confid...</td>\n",
       "      <td>suggested</td>\n",
       "      <td>cognite-sdk-python</td>\n",
       "      <td>7.49.0</td>\n",
       "      <td>file</td>\n",
       "      <td>6774853380218970</td>\n",
       "      <td>7595283310603737</td>\n",
       "      <td>2024-06-06 08:23:34.742</td>\n",
       "      <td>2024-06-06 08:23:34.742</td>\n",
       "      <td>None</td>\n",
       "    </tr>\n",
       "    <tr>\n",
       "      <th>2</th>\n",
       "      <td>images.AssetLink</td>\n",
       "      <td>{'assetRef': {'id': 4020286679910539}, 'confid...</td>\n",
       "      <td>suggested</td>\n",
       "      <td>cognite-sdk-python</td>\n",
       "      <td>7.49.0</td>\n",
       "      <td>file</td>\n",
       "      <td>6774853380218970</td>\n",
       "      <td>4091911055341350</td>\n",
       "      <td>2024-06-06 08:23:34.742</td>\n",
       "      <td>2024-06-06 08:23:34.742</td>\n",
       "      <td>None</td>\n",
       "    </tr>\n",
       "    <tr>\n",
       "      <th>3</th>\n",
       "      <td>images.AssetLink</td>\n",
       "      <td>{'assetRef': {'id': 1822320193700543}, 'confid...</td>\n",
       "      <td>suggested</td>\n",
       "      <td>cognite-sdk-python</td>\n",
       "      <td>7.49.0</td>\n",
       "      <td>file</td>\n",
       "      <td>2298467520447151</td>\n",
       "      <td>3503993796504121</td>\n",
       "      <td>2024-06-06 08:23:34.742</td>\n",
       "      <td>2024-06-06 08:23:34.742</td>\n",
       "      <td>None</td>\n",
       "    </tr>\n",
       "    <tr>\n",
       "      <th>4</th>\n",
       "      <td>images.AssetLink</td>\n",
       "      <td>{'assetRef': {'id': 4020286679910539}, 'confid...</td>\n",
       "      <td>suggested</td>\n",
       "      <td>cognite-sdk-python</td>\n",
       "      <td>7.49.0</td>\n",
       "      <td>file</td>\n",
       "      <td>2298467520447151</td>\n",
       "      <td>6727334234328869</td>\n",
       "      <td>2024-06-06 08:23:34.742</td>\n",
       "      <td>2024-06-06 08:23:34.742</td>\n",
       "      <td>None</td>\n",
       "    </tr>\n",
       "    <tr>\n",
       "      <th>5</th>\n",
       "      <td>images.AssetLink</td>\n",
       "      <td>{'assetRef': {'id': 1822320193700543}, 'confid...</td>\n",
       "      <td>suggested</td>\n",
       "      <td>cognite-sdk-python</td>\n",
       "      <td>7.49.0</td>\n",
       "      <td>file</td>\n",
       "      <td>2636039653514628</td>\n",
       "      <td>8504092004883770</td>\n",
       "      <td>2024-06-06 08:23:34.743</td>\n",
       "      <td>2024-06-06 08:23:34.743</td>\n",
       "      <td>None</td>\n",
       "    </tr>\n",
       "    <tr>\n",
       "      <th>6</th>\n",
       "      <td>images.AssetLink</td>\n",
       "      <td>{'assetRef': {'id': 4020286679910539}, 'confid...</td>\n",
       "      <td>suggested</td>\n",
       "      <td>cognite-sdk-python</td>\n",
       "      <td>7.49.0</td>\n",
       "      <td>file</td>\n",
       "      <td>2636039653514628</td>\n",
       "      <td>4430887489907715</td>\n",
       "      <td>2024-06-06 08:23:34.743</td>\n",
       "      <td>2024-06-06 08:23:34.743</td>\n",
       "      <td>None</td>\n",
       "    </tr>\n",
       "    <tr>\n",
       "      <th>7</th>\n",
       "      <td>images.AssetLink</td>\n",
       "      <td>{'assetRef': {'id': 1822320193700543}, 'confid...</td>\n",
       "      <td>suggested</td>\n",
       "      <td>cognite-sdk-python</td>\n",
       "      <td>7.49.0</td>\n",
       "      <td>file</td>\n",
       "      <td>3780431849412349</td>\n",
       "      <td>6162672867723697</td>\n",
       "      <td>2024-06-06 08:23:34.743</td>\n",
       "      <td>2024-06-06 08:23:34.743</td>\n",
       "      <td>None</td>\n",
       "    </tr>\n",
       "    <tr>\n",
       "      <th>8</th>\n",
       "      <td>images.AssetLink</td>\n",
       "      <td>{'assetRef': {'id': 4020286679910539}, 'confid...</td>\n",
       "      <td>suggested</td>\n",
       "      <td>cognite-sdk-python</td>\n",
       "      <td>7.49.0</td>\n",
       "      <td>file</td>\n",
       "      <td>3780431849412349</td>\n",
       "      <td>5504700320673316</td>\n",
       "      <td>2024-06-06 08:23:34.743</td>\n",
       "      <td>2024-06-06 08:23:34.743</td>\n",
       "      <td>None</td>\n",
       "    </tr>\n",
       "    <tr>\n",
       "      <th>9</th>\n",
       "      <td>images.AssetLink</td>\n",
       "      <td>{'assetRef': {'id': 1822320193700543}, 'confid...</td>\n",
       "      <td>suggested</td>\n",
       "      <td>cognite-sdk-python</td>\n",
       "      <td>7.49.0</td>\n",
       "      <td>file</td>\n",
       "      <td>3164839763203281</td>\n",
       "      <td>6900950444206290</td>\n",
       "      <td>2024-06-06 08:23:34.743</td>\n",
       "      <td>2024-06-06 08:23:34.743</td>\n",
       "      <td>None</td>\n",
       "    </tr>\n",
       "    <tr>\n",
       "      <th>10</th>\n",
       "      <td>images.AssetLink</td>\n",
       "      <td>{'assetRef': {'id': 1535540773169479}, 'confid...</td>\n",
       "      <td>suggested</td>\n",
       "      <td>cognite-sdk-python</td>\n",
       "      <td>7.49.0</td>\n",
       "      <td>file</td>\n",
       "      <td>3164839763203281</td>\n",
       "      <td>5795282687023493</td>\n",
       "      <td>2024-06-06 08:23:34.743</td>\n",
       "      <td>2024-06-06 08:23:34.743</td>\n",
       "      <td>None</td>\n",
       "    </tr>\n",
       "    <tr>\n",
       "      <th>11</th>\n",
       "      <td>images.AssetLink</td>\n",
       "      <td>{'assetRef': {'id': 4020286679910539}, 'confid...</td>\n",
       "      <td>suggested</td>\n",
       "      <td>cognite-sdk-python</td>\n",
       "      <td>7.49.0</td>\n",
       "      <td>file</td>\n",
       "      <td>3164839763203281</td>\n",
       "      <td>3478605205333144</td>\n",
       "      <td>2024-06-06 08:23:34.743</td>\n",
       "      <td>2024-06-06 08:23:34.743</td>\n",
       "      <td>None</td>\n",
       "    </tr>\n",
       "    <tr>\n",
       "      <th>12</th>\n",
       "      <td>images.AssetLink</td>\n",
       "      <td>{'assetRef': {'id': 1822320193700543}, 'confid...</td>\n",
       "      <td>suggested</td>\n",
       "      <td>cognite-sdk-python</td>\n",
       "      <td>7.49.0</td>\n",
       "      <td>file</td>\n",
       "      <td>4772965138241059</td>\n",
       "      <td>4937116160234001</td>\n",
       "      <td>2024-06-06 08:23:34.744</td>\n",
       "      <td>2024-06-06 08:23:34.744</td>\n",
       "      <td>None</td>\n",
       "    </tr>\n",
       "    <tr>\n",
       "      <th>13</th>\n",
       "      <td>images.AssetLink</td>\n",
       "      <td>{'assetRef': {'id': 1822320193700543}, 'confid...</td>\n",
       "      <td>suggested</td>\n",
       "      <td>cognite-sdk-python</td>\n",
       "      <td>7.49.0</td>\n",
       "      <td>file</td>\n",
       "      <td>1431829215027499</td>\n",
       "      <td>8545735944535396</td>\n",
       "      <td>2024-06-06 08:23:34.744</td>\n",
       "      <td>2024-06-06 08:23:34.744</td>\n",
       "      <td>None</td>\n",
       "    </tr>\n",
       "    <tr>\n",
       "      <th>14</th>\n",
       "      <td>images.AssetLink</td>\n",
       "      <td>{'assetRef': {'id': 4020286679910539}, 'confid...</td>\n",
       "      <td>suggested</td>\n",
       "      <td>cognite-sdk-python</td>\n",
       "      <td>7.49.0</td>\n",
       "      <td>file</td>\n",
       "      <td>1431829215027499</td>\n",
       "      <td>8112696456513048</td>\n",
       "      <td>2024-06-06 08:23:34.744</td>\n",
       "      <td>2024-06-06 08:23:34.744</td>\n",
       "      <td>None</td>\n",
       "    </tr>\n",
       "    <tr>\n",
       "      <th>15</th>\n",
       "      <td>images.AssetLink</td>\n",
       "      <td>{'assetRef': {'id': 1535540773169479}, 'confid...</td>\n",
       "      <td>suggested</td>\n",
       "      <td>cognite-sdk-python</td>\n",
       "      <td>7.49.0</td>\n",
       "      <td>file</td>\n",
       "      <td>1431829215027499</td>\n",
       "      <td>1141578832625497</td>\n",
       "      <td>2024-06-06 08:23:34.744</td>\n",
       "      <td>2024-06-06 08:23:34.744</td>\n",
       "      <td>None</td>\n",
       "    </tr>\n",
       "    <tr>\n",
       "      <th>16</th>\n",
       "      <td>images.AssetLink</td>\n",
       "      <td>{'assetRef': {'id': 1535540773169479}, 'confid...</td>\n",
       "      <td>suggested</td>\n",
       "      <td>cognite-sdk-python</td>\n",
       "      <td>7.49.0</td>\n",
       "      <td>file</td>\n",
       "      <td>8462357668927449</td>\n",
       "      <td>2805236280731860</td>\n",
       "      <td>2024-06-06 08:23:34.744</td>\n",
       "      <td>2024-06-06 08:23:34.744</td>\n",
       "      <td>None</td>\n",
       "    </tr>\n",
       "    <tr>\n",
       "      <th>17</th>\n",
       "      <td>images.AssetLink</td>\n",
       "      <td>{'assetRef': {'id': 4020286679910539}, 'confid...</td>\n",
       "      <td>suggested</td>\n",
       "      <td>cognite-sdk-python</td>\n",
       "      <td>7.49.0</td>\n",
       "      <td>file</td>\n",
       "      <td>8056787172783702</td>\n",
       "      <td>3342466040918501</td>\n",
       "      <td>2024-06-06 08:23:34.744</td>\n",
       "      <td>2024-06-06 08:23:34.744</td>\n",
       "      <td>None</td>\n",
       "    </tr>\n",
       "    <tr>\n",
       "      <th>18</th>\n",
       "      <td>images.AssetLink</td>\n",
       "      <td>{'assetRef': {'id': 1535540773169479}, 'confid...</td>\n",
       "      <td>suggested</td>\n",
       "      <td>cognite-sdk-python</td>\n",
       "      <td>7.49.0</td>\n",
       "      <td>file</td>\n",
       "      <td>8056787172783702</td>\n",
       "      <td>5882571573326784</td>\n",
       "      <td>2024-06-06 08:23:34.744</td>\n",
       "      <td>2024-06-06 08:23:34.744</td>\n",
       "      <td>None</td>\n",
       "    </tr>\n",
       "    <tr>\n",
       "      <th>19</th>\n",
       "      <td>images.AssetLink</td>\n",
       "      <td>{'assetRef': {'id': 1535540773169479}, 'confid...</td>\n",
       "      <td>suggested</td>\n",
       "      <td>cognite-sdk-python</td>\n",
       "      <td>7.49.0</td>\n",
       "      <td>file</td>\n",
       "      <td>8745369257386640</td>\n",
       "      <td>2522127683280852</td>\n",
       "      <td>2024-06-06 08:23:34.744</td>\n",
       "      <td>2024-06-06 08:23:34.744</td>\n",
       "      <td>None</td>\n",
       "    </tr>\n",
       "    <tr>\n",
       "      <th>20</th>\n",
       "      <td>images.AssetLink</td>\n",
       "      <td>{'assetRef': {'id': 4020286679910539}, 'confid...</td>\n",
       "      <td>suggested</td>\n",
       "      <td>cognite-sdk-python</td>\n",
       "      <td>7.49.0</td>\n",
       "      <td>file</td>\n",
       "      <td>8745369257386640</td>\n",
       "      <td>4783729876468801</td>\n",
       "      <td>2024-06-06 08:23:34.745</td>\n",
       "      <td>2024-06-06 08:23:34.745</td>\n",
       "      <td>None</td>\n",
       "    </tr>\n",
       "    <tr>\n",
       "      <th>21</th>\n",
       "      <td>images.AssetLink</td>\n",
       "      <td>{'assetRef': {'id': 1535540773169479}, 'confid...</td>\n",
       "      <td>suggested</td>\n",
       "      <td>cognite-sdk-python</td>\n",
       "      <td>7.49.0</td>\n",
       "      <td>file</td>\n",
       "      <td>2131438246355022</td>\n",
       "      <td>7101538517435319</td>\n",
       "      <td>2024-06-06 08:23:34.745</td>\n",
       "      <td>2024-06-06 08:23:34.745</td>\n",
       "      <td>None</td>\n",
       "    </tr>\n",
       "    <tr>\n",
       "      <th>22</th>\n",
       "      <td>images.AssetLink</td>\n",
       "      <td>{'assetRef': {'id': 4020286679910539}, 'confid...</td>\n",
       "      <td>suggested</td>\n",
       "      <td>cognite-sdk-python</td>\n",
       "      <td>7.49.0</td>\n",
       "      <td>file</td>\n",
       "      <td>2131438246355022</td>\n",
       "      <td>5089620808317372</td>\n",
       "      <td>2024-06-06 08:23:34.745</td>\n",
       "      <td>2024-06-06 08:23:34.745</td>\n",
       "      <td>None</td>\n",
       "    </tr>\n",
       "    <tr>\n",
       "      <th>23</th>\n",
       "      <td>images.AssetLink</td>\n",
       "      <td>{'assetRef': {'id': 1535540773169479}, 'confid...</td>\n",
       "      <td>suggested</td>\n",
       "      <td>cognite-sdk-python</td>\n",
       "      <td>7.49.0</td>\n",
       "      <td>file</td>\n",
       "      <td>6590899960844816</td>\n",
       "      <td>924971882047562</td>\n",
       "      <td>2024-06-06 08:23:34.745</td>\n",
       "      <td>2024-06-06 08:23:34.745</td>\n",
       "      <td>None</td>\n",
       "    </tr>\n",
       "    <tr>\n",
       "      <th>24</th>\n",
       "      <td>images.AssetLink</td>\n",
       "      <td>{'assetRef': {'id': 6140862798255722}, 'confid...</td>\n",
       "      <td>suggested</td>\n",
       "      <td>cognite-sdk-python</td>\n",
       "      <td>7.49.0</td>\n",
       "      <td>file</td>\n",
       "      <td>5083470898170114</td>\n",
       "      <td>1901650653481205</td>\n",
       "      <td>2024-06-06 08:23:34.745</td>\n",
       "      <td>2024-06-06 08:23:34.745</td>\n",
       "      <td>None</td>\n",
       "    </tr>\n",
       "    <tr>\n",
       "      <th>25</th>\n",
       "      <td>images.AssetLink</td>\n",
       "      <td>{'assetRef': {'id': 1535540773169479}, 'confid...</td>\n",
       "      <td>suggested</td>\n",
       "      <td>cognite-sdk-python</td>\n",
       "      <td>7.49.0</td>\n",
       "      <td>file</td>\n",
       "      <td>5083470898170114</td>\n",
       "      <td>7735022479012969</td>\n",
       "      <td>2024-06-06 08:23:34.745</td>\n",
       "      <td>2024-06-06 08:23:34.745</td>\n",
       "      <td>None</td>\n",
       "    </tr>\n",
       "    <tr>\n",
       "      <th>26</th>\n",
       "      <td>images.AssetLink</td>\n",
       "      <td>{'assetRef': {'id': 6140862798255722}, 'confid...</td>\n",
       "      <td>suggested</td>\n",
       "      <td>cognite-sdk-python</td>\n",
       "      <td>7.49.0</td>\n",
       "      <td>file</td>\n",
       "      <td>7182839523718354</td>\n",
       "      <td>247777055503478</td>\n",
       "      <td>2024-06-06 08:23:34.745</td>\n",
       "      <td>2024-06-06 08:23:34.745</td>\n",
       "      <td>None</td>\n",
       "    </tr>\n",
       "    <tr>\n",
       "      <th>27</th>\n",
       "      <td>images.AssetLink</td>\n",
       "      <td>{'assetRef': {'id': 1535540773169479}, 'confid...</td>\n",
       "      <td>suggested</td>\n",
       "      <td>cognite-sdk-python</td>\n",
       "      <td>7.49.0</td>\n",
       "      <td>file</td>\n",
       "      <td>7182839523718354</td>\n",
       "      <td>2035038643061755</td>\n",
       "      <td>2024-06-06 08:23:34.745</td>\n",
       "      <td>2024-06-06 08:23:34.745</td>\n",
       "      <td>None</td>\n",
       "    </tr>\n",
       "  </tbody>\n",
       "</table>\n",
       "</div>"
      ],
      "text/plain": [
       "AnnotationList([<cognite.client.data_classes.annotations.Annotation at 0x298995f70>,\n",
       "                <cognite.client.data_classes.annotations.Annotation at 0x298995940>,\n",
       "                <cognite.client.data_classes.annotations.Annotation at 0x10800b5e0>,\n",
       "                <cognite.client.data_classes.annotations.Annotation at 0x109e43670>,\n",
       "                <cognite.client.data_classes.annotations.Annotation at 0x109e43610>,\n",
       "                <cognite.client.data_classes.annotations.Annotation at 0x109e436a0>,\n",
       "                <cognite.client.data_classes.annotations.Annotation at 0x109e43700>,\n",
       "                <cognite.client.data_classes.annotations.Annotation at 0x109e43730>,\n",
       "                <cognite.client.data_classes.annotations.Annotation at 0x109e437c0>,\n",
       "                <cognite.client.data_classes.annotations.Annotation at 0x109e438b0>,\n",
       "                <cognite.client.data_classes.annotations.Annotation at 0x109e438e0>,\n",
       "                <cognite.client.data_classes.annotations.Annotation at 0x109e437f0>,\n",
       "                <cognite.client.data_classes.annotations.Annotation at 0x109e43880>,\n",
       "                <cognite.client.data_classes.annotations.Annotation at 0x109e43850>,\n",
       "                <cognite.client.data_classes.annotations.Annotation at 0x109e43820>,\n",
       "                <cognite.client.data_classes.annotations.Annotation at 0x109e436d0>,\n",
       "                <cognite.client.data_classes.annotations.Annotation at 0x109e43760>,\n",
       "                <cognite.client.data_classes.annotations.Annotation at 0x109e43790>,\n",
       "                <cognite.client.data_classes.annotations.Annotation at 0x109e43640>,\n",
       "                <cognite.client.data_classes.annotations.Annotation at 0x109e43910>,\n",
       "                <cognite.client.data_classes.annotations.Annotation at 0x109e43940>,\n",
       "                <cognite.client.data_classes.annotations.Annotation at 0x109e43970>,\n",
       "                <cognite.client.data_classes.annotations.Annotation at 0x109e43ac0>,\n",
       "                <cognite.client.data_classes.annotations.Annotation at 0x109e43a90>,\n",
       "                <cognite.client.data_classes.annotations.Annotation at 0x109e43b50>,\n",
       "                <cognite.client.data_classes.annotations.Annotation at 0x109e43b80>,\n",
       "                <cognite.client.data_classes.annotations.Annotation at 0x109e43bb0>,\n",
       "                <cognite.client.data_classes.annotations.Annotation at 0x109e43be0>])"
      ]
     },
     "execution_count": 18,
     "metadata": {},
     "output_type": "execute_result"
    }
   ],
   "source": [
    "#Lab_s1_asset_detected.save_predictions()"
   ]
  },
  {
   "cell_type": "markdown",
   "id": "2ef31786-07a1-499b-b37c-94eb938407d5",
   "metadata": {},
   "source": [
    "### Grounded sam - detected based on image and asset found"
   ]
  },
  {
   "cell_type": "code",
   "execution_count": 7,
   "id": "b6066745-7f5d-4536-8f36-5e940a848ea1",
   "metadata": {},
   "outputs": [],
   "source": [
    "from GroundingDINO.groundingdino.util.inference import annotate, predict\n",
    "from PIL import Image\n",
    "import io\n",
    "import groundingdino.datasets.transforms as T\n",
    "from typing import Tuple\n",
    "from GroundingDINO.groundingdino.util.slconfig import SLConfig\n",
    "from huggingface_hub import hf_hub_download\n",
    "from GroundingDINO.groundingdino.models import build_model\n",
    "from GroundingDINO.groundingdino.util.utils import clean_state_dict, get_phrases_from_posmap\n",
    "from segment_anything import build_sam, SamPredictor "
   ]
  },
  {
   "cell_type": "code",
   "execution_count": 8,
   "id": "76d5a903-a374-4709-b80d-d6fcd1b083fd",
   "metadata": {},
   "outputs": [],
   "source": [
    "def load_model_hf(repo_id, filename, ckpt_config_filename, device='cpu'):\n",
    "    cache_config_file = hf_hub_download(repo_id=repo_id, filename=ckpt_config_filename)\n",
    "\n",
    "    args = SLConfig.fromfile(cache_config_file) \n",
    "    model = build_model(args)\n",
    "    args.device = device\n",
    "\n",
    "    cache_file = hf_hub_download(repo_id=repo_id, filename=filename)\n",
    "    checkpoint = torch.load(cache_file, map_location='cpu')\n",
    "    log = model.load_state_dict(clean_state_dict(checkpoint['model']), strict=False)\n",
    "    print(\"Model loaded from {} \\n => {}\".format(cache_file, log))\n",
    "    _ = model.eval()\n",
    "    return model   "
   ]
  },
  {
   "cell_type": "code",
   "execution_count": 12,
   "id": "f5c7e4fc-2beb-4a82-9360-fada26949929",
   "metadata": {},
   "outputs": [
    {
     "name": "stdout",
     "output_type": "stream",
     "text": [
      "final text_encoder_type: bert-base-uncased\n"
     ]
    },
    {
     "name": "stderr",
     "output_type": "stream",
     "text": [
      "Some weights of the model checkpoint at bert-base-uncased were not used when initializing BertModel: ['cls.seq_relationship.bias', 'cls.predictions.transform.dense.bias', 'cls.predictions.transform.LayerNorm.weight', 'cls.predictions.transform.dense.weight', 'cls.predictions.bias', 'cls.predictions.transform.LayerNorm.bias', 'cls.seq_relationship.weight']\n",
      "- This IS expected if you are initializing BertModel from the checkpoint of a model trained on another task or with another architecture (e.g. initializing a BertForSequenceClassification model from a BertForPreTraining model).\n",
      "- This IS NOT expected if you are initializing BertModel from the checkpoint of a model that you expect to be exactly identical (initializing a BertForSequenceClassification model from a BertForSequenceClassification model).\n"
     ]
    },
    {
     "name": "stdout",
     "output_type": "stream",
     "text": [
      "Model loaded from /Users/maiken/.cache/huggingface/hub/models--ShilongLiu--GroundingDINO/snapshots/a94c9b567a2a374598f05c584e96798a170c56fb/groundingdino_swinb_cogcoor.pth \n",
      " => _IncompatibleKeys(missing_keys=[], unexpected_keys=['label_enc.weight'])\n"
     ]
    }
   ],
   "source": [
    "ckpt_repo_id = \"ShilongLiu/GroundingDINO\"\n",
    "ckpt_filenmae = \"groundingdino_swinb_cogcoor.pth\"\n",
    "ckpt_config_filename = \"GroundingDINO_SwinB.cfg.py\"\n",
    "groundingdino_model = load_model_hf(ckpt_repo_id, ckpt_filenmae, ckpt_config_filename)"
   ]
  },
  {
   "cell_type": "code",
   "execution_count": 13,
   "id": "8d510ba0-43fa-4efe-9849-f8c4c033b5a4",
   "metadata": {},
   "outputs": [],
   "source": [
    "DEVICE = torch.device('cuda:0' if torch.cuda.is_available() else 'cpu')\n"
   ]
  },
  {
   "cell_type": "code",
   "execution_count": 14,
   "id": "d5387720-1f65-4a08-9c8b-8bcc07abe353",
   "metadata": {},
   "outputs": [
    {
     "name": "stderr",
     "output_type": "stream",
     "text": [
      "Loading pipeline components...: 100%|███████████████████████████| 6/6 [00:00<00:00, 13.44it/s]\n"
     ]
    }
   ],
   "source": [
    "from diffusers import StableDiffusionInpaintPipeline\n",
    "\n",
    "if DEVICE.type == 'cpu':\n",
    "    float_type = torch.float32\n",
    "else:\n",
    "    float_type = torch.float16\n",
    "\n",
    "pipe = StableDiffusionInpaintPipeline.from_pretrained(\n",
    "    \"stabilityai/stable-diffusion-2-inpainting\",\n",
    "    torch_dtype=float_type,\n",
    ")\n",
    "\n",
    "if DEVICE.type != 'cpu':\n",
    "    pipe = pipe.to(\"cuda\")"
   ]
  },
  {
   "cell_type": "code",
   "execution_count": 31,
   "id": "ed0d10b7-5865-4ab5-9b64-57d09e79b581",
   "metadata": {},
   "outputs": [
    {
     "data": {
      "text/plain": [
       "<module 'MAIKEN_GSAM' from '/Users/maiken/Documents/NTNU/24-Vår/github/Grounded-Segment-Anything/MAIKEN_GSAM.py'>"
      ]
     },
     "execution_count": 31,
     "metadata": {},
     "output_type": "execute_result"
    }
   ],
   "source": [
    "import MAIKEN_GSAM\n",
    "import importlib\n",
    "importlib.reload(MAIKEN_GSAM)\n"
   ]
  },
  {
   "cell_type": "code",
   "execution_count": 35,
   "id": "f9771a90-87e7-44ba-9c32-4a01b31cc201",
   "metadata": {},
   "outputs": [],
   "source": [
    "##UPDATE WHEN NEEDED - This assumes the detected assets are already uploaded to cdf from cdf detection\n",
    "current_files = Lab_section_2_ids #Lab_section_1_ids\n",
    "cdf_assets = client.assets.retrieve_subtree(external_id= \"NTNU-D0050\")\n",
    "asset_descriptions = [asset.description for asset in cdf_assets]\n",
    "asset_prompt = \", \".join(asset_descriptions)\n",
    "sam_checkpoint = 'sam_vit_h_4b8939.pth'\n",
    "sam = build_sam(checkpoint=sam_checkpoint)\n",
    "sam.to(device=DEVICE)\n",
    "sam_predictor = SamPredictor(sam)"
   ]
  },
  {
   "cell_type": "code",
   "execution_count": 61,
   "id": "280bcdc9-994e-4c42-b43a-f963268827ea",
   "metadata": {},
   "outputs": [
    {
     "name": "stdout",
     "output_type": "stream",
     "text": [
      "Saved annotated image to GSAM_PROMPT_RESULT/263754839063816.jpg\n",
      "No matching tensor description for asset: mbeu-5215596\n",
      "Unexpected exception formatting exception. Falling back to standard exception\n"
     ]
    },
    {
     "name": "stderr",
     "output_type": "stream",
     "text": [
      "SupervisionWarnings: BoxAnnotator is deprecated: `BoxAnnotator` is deprecated and will be removed in `supervision-0.22.0`. Use `BoundingBoxAnnotator` and `LabelAnnotator` instead\n",
      "Traceback (most recent call last):\n",
      "  File \"/Users/maiken/anaconda3/envs/groundSAM/lib/python3.8/site-packages/IPython/core/interactiveshell.py\", line 3508, in run_code\n",
      "    exec(code_obj, self.user_global_ns, self.user_ns)\n",
      "  File \"/var/folders/w4/m5jy831j1z380b7vctvsw41c0000gn/T/ipykernel_8345/3085936543.py\", line 12, in <module>\n",
      "    results = MAIKEN_GSAM.match_cdf_tensor_combo(file_annotations_cdf, boxs, phrs,cdf_assets, current_image)\n",
      "  File \"/Users/maiken/Documents/NTNU/24-Vår/github/Grounded-Segment-Anything/MAIKEN_GSAM.py\", line 131, in match_cdf_tensor_combo\n",
      "    asset_name = annotation.data[\"text\"].strip().lower()\n",
      "KeyError: 'text'\n",
      "\n",
      "During handling of the above exception, another exception occurred:\n",
      "\n",
      "Traceback (most recent call last):\n",
      "  File \"/Users/maiken/anaconda3/envs/groundSAM/lib/python3.8/site-packages/IPython/core/interactiveshell.py\", line 2105, in showtraceback\n",
      "    stb = self.InteractiveTB.structured_traceback(\n",
      "  File \"/Users/maiken/anaconda3/envs/groundSAM/lib/python3.8/site-packages/IPython/core/ultratb.py\", line 1396, in structured_traceback\n",
      "    return FormattedTB.structured_traceback(\n",
      "  File \"/Users/maiken/anaconda3/envs/groundSAM/lib/python3.8/site-packages/IPython/core/ultratb.py\", line 1287, in structured_traceback\n",
      "    return VerboseTB.structured_traceback(\n",
      "  File \"/Users/maiken/anaconda3/envs/groundSAM/lib/python3.8/site-packages/IPython/core/ultratb.py\", line 1140, in structured_traceback\n",
      "    formatted_exception = self.format_exception_as_a_whole(etype, evalue, etb, number_of_lines_of_context,\n",
      "  File \"/Users/maiken/anaconda3/envs/groundSAM/lib/python3.8/site-packages/IPython/core/ultratb.py\", line 1055, in format_exception_as_a_whole\n",
      "    frames.append(self.format_record(record))\n",
      "  File \"/Users/maiken/anaconda3/envs/groundSAM/lib/python3.8/site-packages/IPython/core/ultratb.py\", line 955, in format_record\n",
      "    frame_info.lines, Colors, self.has_colors, lvals\n",
      "  File \"/Users/maiken/anaconda3/envs/groundSAM/lib/python3.8/site-packages/IPython/core/ultratb.py\", line 778, in lines\n",
      "    return self._sd.lines\n",
      "  File \"/Users/maiken/anaconda3/envs/groundSAM/lib/python3.8/site-packages/stack_data/utils.py\", line 145, in cached_property_wrapper\n",
      "    value = obj.__dict__[self.func.__name__] = self.func(obj)\n",
      "  File \"/Users/maiken/anaconda3/envs/groundSAM/lib/python3.8/site-packages/stack_data/core.py\", line 698, in lines\n",
      "    pieces = self.included_pieces\n",
      "  File \"/Users/maiken/anaconda3/envs/groundSAM/lib/python3.8/site-packages/stack_data/utils.py\", line 145, in cached_property_wrapper\n",
      "    value = obj.__dict__[self.func.__name__] = self.func(obj)\n",
      "  File \"/Users/maiken/anaconda3/envs/groundSAM/lib/python3.8/site-packages/stack_data/core.py\", line 649, in included_pieces\n",
      "    pos = scope_pieces.index(self.executing_piece)\n",
      "  File \"/Users/maiken/anaconda3/envs/groundSAM/lib/python3.8/site-packages/stack_data/utils.py\", line 145, in cached_property_wrapper\n",
      "    value = obj.__dict__[self.func.__name__] = self.func(obj)\n",
      "  File \"/Users/maiken/anaconda3/envs/groundSAM/lib/python3.8/site-packages/stack_data/core.py\", line 628, in executing_piece\n",
      "    return only(\n",
      "  File \"/Users/maiken/anaconda3/envs/groundSAM/lib/python3.8/site-packages/executing/executing.py\", line 164, in only\n",
      "    raise NotOneValueFound('Expected one value, found 0')\n",
      "executing.executing.NotOneValueFound: Expected one value, found 0\n"
     ]
    }
   ],
   "source": [
    "from cognite.client.data_classes import AnnotationFilter, Annotation, AnnotationList\n",
    "\n",
    "for file_id in current_files:\n",
    "    #Generate results\n",
    "    boxs, lgts, phrs, image_source, image = MAIKEN_GSAM.get_gsam_annotations(file_id,asset_prompt,client, DEVICE,groundingdino_model) \n",
    "    #Save image results\n",
    "    file_filt= AnnotationFilter(annotated_resource_type=\"file\", annotated_resource_ids=[{\"id\": file_id}])\n",
    "    file_annotations_cdf = client.annotations.list(file_filt, limit=None)\n",
    "    MAIKEN_GSAM.annotate_and_save_image(file_id, boxs, lgts, phrs, image_source)\n",
    "    ## Find the closest assets combo\n",
    "    current_image = Image.fromarray(image_source)\n",
    "    results = MAIKEN_GSAM.match_cdf_tensor_combo(file_annotations_cdf, boxs, phrs,cdf_assets, current_image)\n",
    "    ## Segment and create Assetlink\n",
    "    img_w, img_h = current_image.size\n",
    "    nr_annotations = 0\n",
    "    for result in results:\n",
    "        current_segment_masks = MAIKEN_GSAM.get_segment_mask(image_source, result[\"TensorBox\"], sam_predictor)\n",
    "        if len(current_segment_masks)>1:\n",
    "            print(\"Multiple masks were generated for that bounding box\")\n",
    "        vertices_from_mask = MAIKEN_GSAM.convert_mask_to_vertices(current_segment_masks[0], img_w, img_h)\n",
    "        ## Create asset\n",
    "        target_asset_id = result[\"cdf_annotation\"].data[\"assetRef\"][\"id\"]\n",
    "        target_asset_text = result[\"cdf_annotation\"].data[\"text\"]\n",
    "        text_region = result[\"cdf_annotation\"].data[\"textRegion\"]\n",
    "        resource_id = result[\"cdf_annotation\"].annotated_resource_id\n",
    "        potential_asset = MAIKEN_GSAM.create_assetlink_from_segment(target_asset_id,target_asset_text,text_region,vertices_from_mask,resource_id)\n",
    "        client.annotations.create([potential_asset])\n",
    "        nr_annotations+=1\n",
    "    print(\"Number of Annotations:\",nr_annotations, \"for FileId:\",file_id)\n",
    "    "
   ]
  },
  {
   "cell_type": "code",
   "execution_count": null,
   "id": "785dc126-a948-4bd9-8bf9-6dd80b25fdad",
   "metadata": {},
   "outputs": [],
   "source": []
  },
  {
   "cell_type": "markdown",
   "id": "ed75758c-9984-41fc-affe-68222ad9e7b9",
   "metadata": {},
   "source": [
    "## ROBOT GARDEN"
   ]
  },
  {
   "cell_type": "markdown",
   "id": "2fb9353e-9171-49ea-b667-7722df0c3401",
   "metadata": {},
   "source": [
    "### CDF detection"
   ]
  },
  {
   "cell_type": "code",
   "execution_count": 43,
   "id": "2174a2bb-ed95-425c-bc79-f901b90fabe3",
   "metadata": {},
   "outputs": [
    {
     "name": "stdout",
     "output_type": "stream",
     "text": [
      "Nr Images section 1: 18\n"
     ]
    }
   ],
   "source": [
    "Garden_1= [263754839063816,6034992283929723,5867679338185359,7781110852870780,899469760295617,152658776909270,3273828395583694,981890982923344,7210995089948983,1228262454521196,3624446641444538,1089379470906719,4278355911379969,4826846364937565,3136788885497236,5465251416401354,236383508698520,6203563851144081]\n",
    "print(\"Nr Images section 1:\",len(Garden_1))\n"
   ]
  },
  {
   "cell_type": "code",
   "execution_count": 39,
   "id": "34c4d1ac-ebb3-49ba-9837-3394ba2af6a0",
   "metadata": {},
   "outputs": [],
   "source": [
    "from cognite.client.data_classes.contextualization import VisionFeature\n",
    "Garden_1_detected = client.vision.extract(features=VisionFeature.ASSET_TAG_DETECTION,file_ids=Garden_1)\n",
    "Garden_1_detected.wait_for_completion()"
   ]
  },
  {
   "cell_type": "code",
   "execution_count": 42,
   "id": "3147a09b-3c15-4896-b6e3-f71f7404d888",
   "metadata": {},
   "outputs": [
    {
     "data": {
      "text/plain": [
       "{'items': [{'fileId': 3624446641444538,\n",
       "   'predictions': {'assetTagPredictions': []}},\n",
       "  {'fileId': 1089379470906719, 'predictions': {'assetTagPredictions': []}},\n",
       "  {'fileId': 4278355911379969, 'predictions': {'assetTagPredictions': []}},\n",
       "  {'fileId': 3136788885497236, 'predictions': {'assetTagPredictions': []}},\n",
       "  {'fileId': 5465251416401354, 'predictions': {'assetTagPredictions': []}},\n",
       "  {'fileId': 236383508698520, 'predictions': {'assetTagPredictions': []}},\n",
       "  {'fileId': 6203563851144081, 'predictions': {'assetTagPredictions': []}},\n",
       "  {'fileId': 263754839063816, 'predictions': {'assetTagPredictions': []}},\n",
       "  {'fileId': 6034992283929723, 'predictions': {'assetTagPredictions': []}},\n",
       "  {'fileId': 5867679338185359, 'predictions': {'assetTagPredictions': []}},\n",
       "  {'fileId': 7781110852870780, 'predictions': {'assetTagPredictions': []}},\n",
       "  {'fileId': 899469760295617, 'predictions': {'assetTagPredictions': []}},\n",
       "  {'fileId': 152658776909270, 'predictions': {'assetTagPredictions': []}},\n",
       "  {'fileId': 3273828395583694, 'predictions': {'assetTagPredictions': []}},\n",
       "  {'fileId': 981890982923344, 'predictions': {'assetTagPredictions': []}},\n",
       "  {'fileId': 7210995089948983, 'predictions': {'assetTagPredictions': []}},\n",
       "  {'fileId': 1228262454521196, 'predictions': {'assetTagPredictions': []}}],\n",
       " 'parameters': {'assetTagDetectionParameters': {'assetSubtreeIds': [],\n",
       "   'partialMatch': False,\n",
       "   'threshold': 0.4}}}"
      ]
     },
     "execution_count": 42,
     "metadata": {},
     "output_type": "execute_result"
    }
   ],
   "source": [
    "Garden_1_detected.result"
   ]
  },
  {
   "cell_type": "code",
   "execution_count": 71,
   "id": "1aaf796b-26d0-4b22-96c5-8e9dbed651cc",
   "metadata": {},
   "outputs": [],
   "source": [
    "##UPDATE WHEN NEEDED - This assumes the detected assets are already uploaded to cdf from cdf detection\n",
    "issue_ids = [152658776909270, 981890982923344,1089379470906719]\n",
    "Garden_2 = [4278355911379969,4826846364937565,3136788885497236,5465251416401354,236383508698520,6203563851144081]\n",
    "current_files = Garden_2 #RobotGarden - part 2\n",
    "cdf_assets = client.assets.retrieve_subtree(external_id= \"Robot-garden\")\n",
    "asset_descriptions = [asset.description for asset in cdf_assets]\n",
    "asset_prompt = \", \".join(asset_descriptions)\n",
    "sam_checkpoint = 'sam_vit_h_4b8939.pth'\n",
    "sam = build_sam(checkpoint=sam_checkpoint)\n",
    "sam.to(device=DEVICE)\n",
    "sam_predictor = SamPredictor(sam)"
   ]
  },
  {
   "cell_type": "code",
   "execution_count": 72,
   "id": "0c8d8904-7ca3-4b7c-a71a-46991520c495",
   "metadata": {},
   "outputs": [
    {
     "name": "stderr",
     "output_type": "stream",
     "text": [
      "SupervisionWarnings: BoxAnnotator is deprecated: `BoxAnnotator` is deprecated and will be removed in `supervision-0.22.0`. Use `BoundingBoxAnnotator` and `LabelAnnotator` instead\n"
     ]
    },
    {
     "name": "stdout",
     "output_type": "stream",
     "text": [
      "Saved annotated image to GSAM_PROMPT_RESULT/4278355911379969.jpg\n",
      "Number of Annotations: 2 for FileId: 4278355911379969\n"
     ]
    },
    {
     "name": "stderr",
     "output_type": "stream",
     "text": [
      "SupervisionWarnings: BoxAnnotator is deprecated: `BoxAnnotator` is deprecated and will be removed in `supervision-0.22.0`. Use `BoundingBoxAnnotator` and `LabelAnnotator` instead\n"
     ]
    },
    {
     "name": "stdout",
     "output_type": "stream",
     "text": [
      "Saved annotated image to GSAM_PROMPT_RESULT/4826846364937565.jpg\n",
      "Number of Annotations: 2 for FileId: 4826846364937565\n"
     ]
    },
    {
     "name": "stderr",
     "output_type": "stream",
     "text": [
      "SupervisionWarnings: BoxAnnotator is deprecated: `BoxAnnotator` is deprecated and will be removed in `supervision-0.22.0`. Use `BoundingBoxAnnotator` and `LabelAnnotator` instead\n"
     ]
    },
    {
     "name": "stdout",
     "output_type": "stream",
     "text": [
      "Saved annotated image to GSAM_PROMPT_RESULT/3136788885497236.jpg\n",
      "Number of Annotations: 2 for FileId: 3136788885497236\n"
     ]
    },
    {
     "name": "stderr",
     "output_type": "stream",
     "text": [
      "SupervisionWarnings: BoxAnnotator is deprecated: `BoxAnnotator` is deprecated and will be removed in `supervision-0.22.0`. Use `BoundingBoxAnnotator` and `LabelAnnotator` instead\n"
     ]
    },
    {
     "name": "stdout",
     "output_type": "stream",
     "text": [
      "Saved annotated image to GSAM_PROMPT_RESULT/5465251416401354.jpg\n",
      "No matching tensor description for asset: fuglesangs\n",
      "Number of Annotations: 0 for FileId: 5465251416401354\n"
     ]
    },
    {
     "name": "stderr",
     "output_type": "stream",
     "text": [
      "SupervisionWarnings: BoxAnnotator is deprecated: `BoxAnnotator` is deprecated and will be removed in `supervision-0.22.0`. Use `BoundingBoxAnnotator` and `LabelAnnotator` instead\n"
     ]
    },
    {
     "name": "stdout",
     "output_type": "stream",
     "text": [
      "Saved annotated image to GSAM_PROMPT_RESULT/236383508698520.jpg\n",
      "Number of Annotations: 2 for FileId: 236383508698520\n"
     ]
    },
    {
     "name": "stderr",
     "output_type": "stream",
     "text": [
      "SupervisionWarnings: BoxAnnotator is deprecated: `BoxAnnotator` is deprecated and will be removed in `supervision-0.22.0`. Use `BoundingBoxAnnotator` and `LabelAnnotator` instead\n"
     ]
    },
    {
     "name": "stdout",
     "output_type": "stream",
     "text": [
      "Saved annotated image to GSAM_PROMPT_RESULT/6203563851144081.jpg\n",
      "Number of Annotations: 2 for FileId: 6203563851144081\n"
     ]
    }
   ],
   "source": [
    "from cognite.client.data_classes import AnnotationFilter, Annotation, AnnotationList\n",
    "\n",
    "for file_id in current_files:\n",
    "    #Generate results\n",
    "    boxs, lgts, phrs, image_source, image = MAIKEN_GSAM.get_gsam_annotations(file_id,asset_prompt,client, DEVICE,groundingdino_model) \n",
    "    #Save image results\n",
    "    file_filt= AnnotationFilter(annotated_resource_type=\"file\", annotated_resource_ids=[{\"id\": file_id}])\n",
    "    all_file_annotations_cdf = client.annotations.list(file_filt, limit=None)\n",
    "    asset_link_annotations = AnnotationList([ann for ann in all_file_annotations_cdf if ann.annotation_type == \"images.AssetLink\"])\n",
    "    MAIKEN_GSAM.annotate_and_save_image(file_id, boxs, lgts, phrs, image_source)\n",
    "    ## Find the closest assets combo\n",
    "    current_image = Image.fromarray(image_source)\n",
    "    results = MAIKEN_GSAM.match_cdf_tensor_combo(asset_link_annotations, boxs, phrs,cdf_assets, current_image, threshold = 750) #about 100cm\n",
    "    ## Segment and create Assetlink\n",
    "    img_w, img_h = current_image.size\n",
    "    nr_annotations = 0\n",
    "    for result in results:\n",
    "        current_segment_masks = MAIKEN_GSAM.get_segment_mask(image_source, result[\"TensorBox\"], sam_predictor)\n",
    "        if len(current_segment_masks)>1:\n",
    "            print(\"Multiple masks were generated for that bounding box\")\n",
    "        vertices_from_mask = MAIKEN_GSAM.convert_mask_to_vertices(current_segment_masks[0], img_w, img_h)\n",
    "        ## Create asset\n",
    "        target_asset_id = result[\"cdf_annotation\"].data[\"assetRef\"][\"id\"]\n",
    "        target_asset_text = result[\"cdf_annotation\"].data[\"text\"]\n",
    "        text_region = result[\"cdf_annotation\"].data[\"textRegion\"]\n",
    "        resource_id = result[\"cdf_annotation\"].annotated_resource_id\n",
    "        potential_asset = MAIKEN_GSAM.create_assetlink_from_segment(target_asset_id,target_asset_text,text_region,vertices_from_mask,resource_id)\n",
    "        client.annotations.create([potential_asset])\n",
    "        nr_annotations+=1\n",
    "    print(\"Number of Annotations:\",nr_annotations, \"for FileId:\",file_id)\n",
    "    "
   ]
  },
  {
   "cell_type": "code",
   "execution_count": 56,
   "id": "f7e92f08-a0d9-40d8-b3a4-47aa159d2dd9",
   "metadata": {},
   "outputs": [
    {
     "data": {
      "text/plain": [
       "'BT-2233'"
      ]
     },
     "execution_count": 56,
     "metadata": {},
     "output_type": "execute_result"
    }
   ],
   "source": [
    "results[0][\"cdf_annotation\"].data[\"text\"]"
   ]
  },
  {
   "cell_type": "code",
   "execution_count": 49,
   "id": "afc4d663-c373-4f02-a94c-31e6dd19aae7",
   "metadata": {},
   "outputs": [
    {
     "data": {
      "text/plain": [
       "['Robot garden test',\n",
       " 'Motorized pump',\n",
       " 'PRESSURE GAUGE',\n",
       " 'Shipping Container',\n",
       " 'Cylindrical Tank',\n",
       " 'Blue Barrel drum',\n",
       " 'Red Pressure vessel tank',\n",
       " 'Electrical Control Panel']"
      ]
     },
     "execution_count": 49,
     "metadata": {},
     "output_type": "execute_result"
    }
   ],
   "source": [
    "asset_descriptions"
   ]
  },
  {
   "cell_type": "code",
   "execution_count": 76,
   "id": "fc260eb8-c40e-429c-bab2-af04d4da92b1",
   "metadata": {},
   "outputs": [],
   "source": [
    "## Quick test for reveal data"
   ]
  },
  {
   "cell_type": "code",
   "execution_count": 81,
   "id": "068e12f9-c733-4618-8b02-374c239139f0",
   "metadata": {},
   "outputs": [],
   "source": [
    "new_id_test = [2908970727561997,6678905789218401]\n",
    "testreveal = client.vision.extract(features=VisionFeature.ASSET_TAG_DETECTION,file_ids=new_id_test)"
   ]
  },
  {
   "cell_type": "code",
   "execution_count": 82,
   "id": "12b21166-6816-4b0d-869e-73c73aa5e2ed",
   "metadata": {},
   "outputs": [
    {
     "data": {
      "text/html": [
       "<div>\n",
       "<style scoped>\n",
       "    .dataframe tbody tr th:only-of-type {\n",
       "        vertical-align: middle;\n",
       "    }\n",
       "\n",
       "    .dataframe tbody tr th {\n",
       "        vertical-align: top;\n",
       "    }\n",
       "\n",
       "    .dataframe thead th {\n",
       "        text-align: right;\n",
       "    }\n",
       "</style>\n",
       "<table border=\"1\" class=\"dataframe\">\n",
       "  <thead>\n",
       "    <tr style=\"text-align: right;\">\n",
       "      <th></th>\n",
       "      <th>value</th>\n",
       "    </tr>\n",
       "  </thead>\n",
       "  <tbody>\n",
       "    <tr>\n",
       "      <th>job_id</th>\n",
       "      <td>8203519759071518</td>\n",
       "    </tr>\n",
       "    <tr>\n",
       "      <th>status</th>\n",
       "      <td>Queued</td>\n",
       "    </tr>\n",
       "    <tr>\n",
       "      <th>created_time</th>\n",
       "      <td>2024-06-19 17:27:05.894000</td>\n",
       "    </tr>\n",
       "    <tr>\n",
       "      <th>status_time</th>\n",
       "      <td>1718818025894</td>\n",
       "    </tr>\n",
       "  </tbody>\n",
       "</table>\n",
       "</div>"
      ],
      "text/plain": [
       "<cognite.client.data_classes.contextualization.VisionExtractJob at 0x2d5585f70>"
      ]
     },
     "execution_count": 82,
     "metadata": {},
     "output_type": "execute_result"
    }
   ],
   "source": [
    "testreveal"
   ]
  },
  {
   "cell_type": "code",
   "execution_count": 83,
   "id": "7a387517-219d-4e8b-ac59-10ad28e4a3ea",
   "metadata": {},
   "outputs": [
    {
     "data": {
      "text/html": [
       "<div>\n",
       "<style scoped>\n",
       "    .dataframe tbody tr th:only-of-type {\n",
       "        vertical-align: middle;\n",
       "    }\n",
       "\n",
       "    .dataframe tbody tr th {\n",
       "        vertical-align: top;\n",
       "    }\n",
       "\n",
       "    .dataframe thead th {\n",
       "        text-align: right;\n",
       "    }\n",
       "</style>\n",
       "<table border=\"1\" class=\"dataframe\">\n",
       "  <thead>\n",
       "    <tr style=\"text-align: right;\">\n",
       "      <th></th>\n",
       "      <th>value</th>\n",
       "    </tr>\n",
       "  </thead>\n",
       "  <tbody>\n",
       "    <tr>\n",
       "      <th>job_id</th>\n",
       "      <td>8203519759071518</td>\n",
       "    </tr>\n",
       "    <tr>\n",
       "      <th>status</th>\n",
       "      <td>Completed</td>\n",
       "    </tr>\n",
       "    <tr>\n",
       "      <th>created_time</th>\n",
       "      <td>2024-06-19 17:27:05.894000</td>\n",
       "    </tr>\n",
       "    <tr>\n",
       "      <th>start_time</th>\n",
       "      <td>2024-06-19 17:27:06.251000</td>\n",
       "    </tr>\n",
       "    <tr>\n",
       "      <th>status_time</th>\n",
       "      <td>1718818031355</td>\n",
       "    </tr>\n",
       "  </tbody>\n",
       "</table>\n",
       "</div>"
      ],
      "text/plain": [
       "<cognite.client.data_classes.contextualization.VisionExtractJob at 0x2d5585f70>"
      ]
     },
     "execution_count": 83,
     "metadata": {},
     "output_type": "execute_result"
    }
   ],
   "source": [
    "testreveal.wait_for_completion()\n",
    "testreveal"
   ]
  },
  {
   "cell_type": "code",
   "execution_count": 84,
   "id": "883dca29-e604-498f-9d3b-692f4df4985e",
   "metadata": {},
   "outputs": [
    {
     "data": {
      "text/plain": [
       "{'items': [{'fileId': 2908970727561997,\n",
       "   'predictions': {'assetTagPredictions': [{'assetRef': {'id': 2038428431925541},\n",
       "      'confidence': 1.0,\n",
       "      'text': 'LCV-01',\n",
       "      'textRegion': {'xMax': 0.3324118866620594,\n",
       "       'xMin': 0.3096060815480304,\n",
       "       'yMax': 0.22736696613683482,\n",
       "       'yMin': 0.21492743607463718}}]}},\n",
       "  {'fileId': 6678905789218401, 'predictions': {'assetTagPredictions': []}}],\n",
       " 'parameters': {'assetTagDetectionParameters': {'assetSubtreeIds': [],\n",
       "   'partialMatch': False,\n",
       "   'threshold': 0.4}}}"
      ]
     },
     "execution_count": 84,
     "metadata": {},
     "output_type": "execute_result"
    }
   ],
   "source": [
    "testreveal.result"
   ]
  },
  {
   "cell_type": "code",
   "execution_count": 85,
   "id": "93a5bf01-a505-499e-b846-0bd6838f0ff1",
   "metadata": {},
   "outputs": [
    {
     "data": {
      "text/html": [
       "<div>\n",
       "<style scoped>\n",
       "    .dataframe tbody tr th:only-of-type {\n",
       "        vertical-align: middle;\n",
       "    }\n",
       "\n",
       "    .dataframe tbody tr th {\n",
       "        vertical-align: top;\n",
       "    }\n",
       "\n",
       "    .dataframe thead th {\n",
       "        text-align: right;\n",
       "    }\n",
       "</style>\n",
       "<table border=\"1\" class=\"dataframe\">\n",
       "  <thead>\n",
       "    <tr style=\"text-align: right;\">\n",
       "      <th></th>\n",
       "      <th>annotation_type</th>\n",
       "      <th>data</th>\n",
       "      <th>status</th>\n",
       "      <th>creating_app</th>\n",
       "      <th>creating_app_version</th>\n",
       "      <th>annotated_resource_type</th>\n",
       "      <th>annotated_resource_id</th>\n",
       "      <th>id</th>\n",
       "      <th>created_time</th>\n",
       "      <th>last_updated_time</th>\n",
       "      <th>creating_user</th>\n",
       "    </tr>\n",
       "  </thead>\n",
       "  <tbody>\n",
       "    <tr>\n",
       "      <th>0</th>\n",
       "      <td>images.AssetLink</td>\n",
       "      <td>{'assetRef': {'id': 2038428431925541}, 'confid...</td>\n",
       "      <td>suggested</td>\n",
       "      <td>cognite-sdk-python</td>\n",
       "      <td>7.49.0</td>\n",
       "      <td>file</td>\n",
       "      <td>2908970727561997</td>\n",
       "      <td>1652916727094954</td>\n",
       "      <td>2024-06-19 17:31:30.685</td>\n",
       "      <td>2024-06-19 17:31:30.685</td>\n",
       "      <td>None</td>\n",
       "    </tr>\n",
       "  </tbody>\n",
       "</table>\n",
       "</div>"
      ],
      "text/plain": [
       "AnnotationList([<cognite.client.data_classes.annotations.Annotation at 0x333b9f0a0>])"
      ]
     },
     "execution_count": 85,
     "metadata": {},
     "output_type": "execute_result"
    }
   ],
   "source": [
    "testreveal.save_predictions()"
   ]
  },
  {
   "cell_type": "code",
   "execution_count": null,
   "id": "6dd9a0e1-14df-4449-8ecf-d6764f718bae",
   "metadata": {},
   "outputs": [],
   "source": []
  }
 ],
 "metadata": {
  "kernelspec": {
   "display_name": "Python (groundSAM)",
   "language": "python",
   "name": "groundsam"
  },
  "language_info": {
   "codemirror_mode": {
    "name": "ipython",
    "version": 3
   },
   "file_extension": ".py",
   "mimetype": "text/x-python",
   "name": "python",
   "nbconvert_exporter": "python",
   "pygments_lexer": "ipython3",
   "version": "3.8.19"
  }
 },
 "nbformat": 4,
 "nbformat_minor": 5
}
